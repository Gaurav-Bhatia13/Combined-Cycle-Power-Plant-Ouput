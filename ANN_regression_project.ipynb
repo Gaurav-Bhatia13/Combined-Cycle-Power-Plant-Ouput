{
  "nbformat": 4,
  "nbformat_minor": 0,
  "metadata": {
    "colab": {
      "name": "ANN regression project",
      "provenance": [],
      "collapsed_sections": []
    },
    "kernelspec": {
      "name": "python3",
      "display_name": "Python 3"
    }
  },
  "cells": [
    {
      "cell_type": "code",
      "metadata": {
        "id": "1s7rgVYpdNkB",
        "colab_type": "code",
        "colab": {}
      },
      "source": [
        "import numpy as np\n",
        "import pandas as pd\n",
        "import tensorflow as tf"
      ],
      "execution_count": 1,
      "outputs": []
    },
    {
      "cell_type": "code",
      "metadata": {
        "id": "Kv1XmwlId1c-",
        "colab_type": "code",
        "colab": {}
      },
      "source": [
        "dataset=pd.read_excel('Folds5x2_pp.xlsx')"
      ],
      "execution_count": 2,
      "outputs": []
    },
    {
      "cell_type": "code",
      "metadata": {
        "id": "Q6pGnfE9fOhb",
        "colab_type": "code",
        "colab": {
          "base_uri": "https://localhost:8080/",
          "height": 136
        },
        "outputId": "6bb0ae74-b808-4f34-9ccf-bd43779cfab8"
      },
      "source": [
        "x=dataset.iloc[:,:-1].values\n",
        "y=dataset.iloc[:,-1].values\n",
        "x"
      ],
      "execution_count": 3,
      "outputs": [
        {
          "output_type": "execute_result",
          "data": {
            "text/plain": [
              "array([[  14.96,   41.76, 1024.07,   73.17],\n",
              "       [  25.18,   62.96, 1020.04,   59.08],\n",
              "       [   5.11,   39.4 , 1012.16,   92.14],\n",
              "       ...,\n",
              "       [  31.32,   74.33, 1012.92,   36.48],\n",
              "       [  24.48,   69.45, 1013.86,   62.39],\n",
              "       [  21.6 ,   62.52, 1017.23,   67.87]])"
            ]
          },
          "metadata": {
            "tags": []
          },
          "execution_count": 3
        }
      ]
    },
    {
      "cell_type": "markdown",
      "metadata": {
        "id": "S8qtiZeQusel",
        "colab_type": "text"
      },
      "source": [
        "#spilitting the dataset"
      ]
    },
    {
      "cell_type": "code",
      "metadata": {
        "id": "auA4y2ZVsY66",
        "colab_type": "code",
        "colab": {}
      },
      "source": [
        "from sklearn.model_selection import train_test_split\n",
        "x_train,x_test,y_train,y_test=train_test_split(x,y,test_size=0.2,random_state=0)\n"
      ],
      "execution_count": 4,
      "outputs": []
    },
    {
      "cell_type": "markdown",
      "metadata": {
        "id": "SQnTCGsLucHz",
        "colab_type": "text"
      },
      "source": [
        "#building the ann"
      ]
    },
    {
      "cell_type": "code",
      "metadata": {
        "id": "KXC8NDIXun31",
        "colab_type": "code",
        "colab": {}
      },
      "source": [
        "ann=tf.keras.models.Sequential()"
      ],
      "execution_count": 6,
      "outputs": []
    },
    {
      "cell_type": "code",
      "metadata": {
        "id": "LYe2B4n6vmMv",
        "colab_type": "code",
        "colab": {}
      },
      "source": [
        "ann.add(tf.keras.layers.Dense(units=6,activation='relu'))"
      ],
      "execution_count": 7,
      "outputs": []
    },
    {
      "cell_type": "code",
      "metadata": {
        "id": "j1eQVdKy3pNu",
        "colab_type": "code",
        "colab": {}
      },
      "source": [
        "ann.add(tf.keras.layers.Dense(units=6,activation='relu'))"
      ],
      "execution_count": 8,
      "outputs": []
    },
    {
      "cell_type": "code",
      "metadata": {
        "id": "32MmvGKC3zyZ",
        "colab_type": "code",
        "colab": {}
      },
      "source": [
        "ann.add(tf.keras.layers.Dense(units=1))"
      ],
      "execution_count": 9,
      "outputs": []
    },
    {
      "cell_type": "markdown",
      "metadata": {
        "id": "Lzzsn5LU4-wC",
        "colab_type": "text"
      },
      "source": [
        "#training the ann"
      ]
    },
    {
      "cell_type": "code",
      "metadata": {
        "id": "t0RNMJxM5SML",
        "colab_type": "code",
        "colab": {}
      },
      "source": [
        "ann.compile(optimizer='adam',loss='mean_squared_error')"
      ],
      "execution_count": 10,
      "outputs": []
    },
    {
      "cell_type": "code",
      "metadata": {
        "id": "3YQODm4x_7O6",
        "colab_type": "code",
        "colab": {
          "base_uri": "https://localhost:8080/",
          "height": 1000
        },
        "outputId": "55b58a36-0839-46bc-a0f9-fe6eeab420c0"
      },
      "source": [
        "ann.fit(x_train,y_train,batch_size=32,epochs=100)\n"
      ],
      "execution_count": 11,
      "outputs": [
        {
          "output_type": "stream",
          "text": [
            "Epoch 1/100\n",
            "240/240 [==============================] - 0s 1ms/step - loss: 550313.0625\n",
            "Epoch 2/100\n",
            "240/240 [==============================] - 0s 1ms/step - loss: 8248.0098\n",
            "Epoch 3/100\n",
            "240/240 [==============================] - 0s 1ms/step - loss: 374.4672\n",
            "Epoch 4/100\n",
            "240/240 [==============================] - 0s 1ms/step - loss: 365.7074\n",
            "Epoch 5/100\n",
            "240/240 [==============================] - 0s 1ms/step - loss: 359.7522\n",
            "Epoch 6/100\n",
            "240/240 [==============================] - 0s 1ms/step - loss: 354.7168\n",
            "Epoch 7/100\n",
            "240/240 [==============================] - 0s 1ms/step - loss: 348.8015\n",
            "Epoch 8/100\n",
            "240/240 [==============================] - 0s 1ms/step - loss: 342.7068\n",
            "Epoch 9/100\n",
            "240/240 [==============================] - 0s 1ms/step - loss: 335.7513\n",
            "Epoch 10/100\n",
            "240/240 [==============================] - 0s 1ms/step - loss: 328.1584\n",
            "Epoch 11/100\n",
            "240/240 [==============================] - 0s 1ms/step - loss: 319.8406\n",
            "Epoch 12/100\n",
            "240/240 [==============================] - 0s 1ms/step - loss: 310.6603\n",
            "Epoch 13/100\n",
            "240/240 [==============================] - 0s 1ms/step - loss: 301.0885\n",
            "Epoch 14/100\n",
            "240/240 [==============================] - 0s 1ms/step - loss: 290.5852\n",
            "Epoch 15/100\n",
            "240/240 [==============================] - 0s 1ms/step - loss: 279.6861\n",
            "Epoch 16/100\n",
            "240/240 [==============================] - 0s 1ms/step - loss: 267.4295\n",
            "Epoch 17/100\n",
            "240/240 [==============================] - 0s 1ms/step - loss: 255.4757\n",
            "Epoch 18/100\n",
            "240/240 [==============================] - 0s 1ms/step - loss: 242.6853\n",
            "Epoch 19/100\n",
            "240/240 [==============================] - 0s 1ms/step - loss: 229.4541\n",
            "Epoch 20/100\n",
            "240/240 [==============================] - 0s 1ms/step - loss: 215.5128\n",
            "Epoch 21/100\n",
            "240/240 [==============================] - 0s 1ms/step - loss: 200.9855\n",
            "Epoch 22/100\n",
            "240/240 [==============================] - 0s 1ms/step - loss: 187.9565\n",
            "Epoch 23/100\n",
            "240/240 [==============================] - 0s 1ms/step - loss: 173.0288\n",
            "Epoch 24/100\n",
            "240/240 [==============================] - 0s 1ms/step - loss: 159.4692\n",
            "Epoch 25/100\n",
            "240/240 [==============================] - 0s 1ms/step - loss: 145.5676\n",
            "Epoch 26/100\n",
            "240/240 [==============================] - 0s 1ms/step - loss: 132.5313\n",
            "Epoch 27/100\n",
            "240/240 [==============================] - 0s 1ms/step - loss: 119.2564\n",
            "Epoch 28/100\n",
            "240/240 [==============================] - 0s 1ms/step - loss: 107.7507\n",
            "Epoch 29/100\n",
            "240/240 [==============================] - 0s 1ms/step - loss: 96.5566\n",
            "Epoch 30/100\n",
            "240/240 [==============================] - 0s 1ms/step - loss: 85.4159\n",
            "Epoch 31/100\n",
            "240/240 [==============================] - 0s 1ms/step - loss: 76.8174\n",
            "Epoch 32/100\n",
            "240/240 [==============================] - 0s 1ms/step - loss: 68.7425\n",
            "Epoch 33/100\n",
            "240/240 [==============================] - 0s 1ms/step - loss: 62.2218\n",
            "Epoch 34/100\n",
            "240/240 [==============================] - 0s 1ms/step - loss: 56.5222\n",
            "Epoch 35/100\n",
            "240/240 [==============================] - 0s 1ms/step - loss: 50.3435\n",
            "Epoch 36/100\n",
            "240/240 [==============================] - 0s 988us/step - loss: 46.2299\n",
            "Epoch 37/100\n",
            "240/240 [==============================] - 0s 1ms/step - loss: 42.7122\n",
            "Epoch 38/100\n",
            "240/240 [==============================] - 0s 1ms/step - loss: 39.4921\n",
            "Epoch 39/100\n",
            "240/240 [==============================] - 0s 1ms/step - loss: 38.1801\n",
            "Epoch 40/100\n",
            "240/240 [==============================] - 0s 1ms/step - loss: 34.9708\n",
            "Epoch 41/100\n",
            "240/240 [==============================] - 0s 1ms/step - loss: 33.3966\n",
            "Epoch 42/100\n",
            "240/240 [==============================] - 0s 1ms/step - loss: 33.0948\n",
            "Epoch 43/100\n",
            "240/240 [==============================] - 0s 1ms/step - loss: 31.5648\n",
            "Epoch 44/100\n",
            "240/240 [==============================] - 0s 995us/step - loss: 31.4250\n",
            "Epoch 45/100\n",
            "240/240 [==============================] - 0s 1ms/step - loss: 30.2776\n",
            "Epoch 46/100\n",
            "240/240 [==============================] - 0s 1ms/step - loss: 30.7425\n",
            "Epoch 47/100\n",
            "240/240 [==============================] - 0s 1ms/step - loss: 30.1381\n",
            "Epoch 48/100\n",
            "240/240 [==============================] - 0s 1ms/step - loss: 29.1680\n",
            "Epoch 49/100\n",
            "240/240 [==============================] - 0s 1ms/step - loss: 29.5839\n",
            "Epoch 50/100\n",
            "240/240 [==============================] - 0s 1ms/step - loss: 29.0910\n",
            "Epoch 51/100\n",
            "240/240 [==============================] - 0s 1ms/step - loss: 29.0541\n",
            "Epoch 52/100\n",
            "240/240 [==============================] - 0s 998us/step - loss: 28.7523\n",
            "Epoch 53/100\n",
            "240/240 [==============================] - 0s 1ms/step - loss: 28.7822\n",
            "Epoch 54/100\n",
            "240/240 [==============================] - 0s 1ms/step - loss: 28.3250\n",
            "Epoch 55/100\n",
            "240/240 [==============================] - 0s 1ms/step - loss: 28.7458\n",
            "Epoch 56/100\n",
            "240/240 [==============================] - 0s 1ms/step - loss: 28.0524\n",
            "Epoch 57/100\n",
            "240/240 [==============================] - 0s 1ms/step - loss: 28.1169\n",
            "Epoch 58/100\n",
            "240/240 [==============================] - 0s 1ms/step - loss: 28.5083\n",
            "Epoch 59/100\n",
            "240/240 [==============================] - 0s 1ms/step - loss: 27.9313\n",
            "Epoch 60/100\n",
            "240/240 [==============================] - 0s 1ms/step - loss: 27.6994\n",
            "Epoch 61/100\n",
            "240/240 [==============================] - 0s 1ms/step - loss: 27.9723\n",
            "Epoch 62/100\n",
            "240/240 [==============================] - 0s 1ms/step - loss: 28.1683\n",
            "Epoch 63/100\n",
            "240/240 [==============================] - 0s 1ms/step - loss: 28.5723\n",
            "Epoch 64/100\n",
            "240/240 [==============================] - 0s 1ms/step - loss: 27.4845\n",
            "Epoch 65/100\n",
            "240/240 [==============================] - 0s 1ms/step - loss: 27.8660\n",
            "Epoch 66/100\n",
            "240/240 [==============================] - 0s 1ms/step - loss: 27.7777\n",
            "Epoch 67/100\n",
            "240/240 [==============================] - 0s 1ms/step - loss: 27.3279\n",
            "Epoch 68/100\n",
            "240/240 [==============================] - 0s 999us/step - loss: 27.7389\n",
            "Epoch 69/100\n",
            "240/240 [==============================] - 0s 1ms/step - loss: 27.2195\n",
            "Epoch 70/100\n",
            "240/240 [==============================] - 0s 987us/step - loss: 28.6151\n",
            "Epoch 71/100\n",
            "240/240 [==============================] - 0s 1ms/step - loss: 27.2429\n",
            "Epoch 72/100\n",
            "240/240 [==============================] - 0s 983us/step - loss: 26.9558\n",
            "Epoch 73/100\n",
            "240/240 [==============================] - 0s 1ms/step - loss: 28.5076\n",
            "Epoch 74/100\n",
            "240/240 [==============================] - 0s 1ms/step - loss: 27.3072\n",
            "Epoch 75/100\n",
            "240/240 [==============================] - 0s 1ms/step - loss: 26.7688\n",
            "Epoch 76/100\n",
            "240/240 [==============================] - 0s 1ms/step - loss: 27.1301\n",
            "Epoch 77/100\n",
            "240/240 [==============================] - 0s 995us/step - loss: 27.7295\n",
            "Epoch 78/100\n",
            "240/240 [==============================] - 0s 1ms/step - loss: 27.7757\n",
            "Epoch 79/100\n",
            "240/240 [==============================] - 0s 992us/step - loss: 27.3090\n",
            "Epoch 80/100\n",
            "240/240 [==============================] - 0s 1ms/step - loss: 27.6647\n",
            "Epoch 81/100\n",
            "240/240 [==============================] - 0s 1ms/step - loss: 27.5297\n",
            "Epoch 82/100\n",
            "240/240 [==============================] - 0s 1ms/step - loss: 28.1542\n",
            "Epoch 83/100\n",
            "240/240 [==============================] - 0s 996us/step - loss: 26.5210\n",
            "Epoch 84/100\n",
            "240/240 [==============================] - 0s 1ms/step - loss: 27.1958\n",
            "Epoch 85/100\n",
            "240/240 [==============================] - 0s 1ms/step - loss: 27.0624\n",
            "Epoch 86/100\n",
            "240/240 [==============================] - 0s 1ms/step - loss: 27.0508\n",
            "Epoch 87/100\n",
            "240/240 [==============================] - 0s 1ms/step - loss: 27.5626\n",
            "Epoch 88/100\n",
            "240/240 [==============================] - 0s 1ms/step - loss: 27.6654\n",
            "Epoch 89/100\n",
            "240/240 [==============================] - 0s 1ms/step - loss: 27.2223\n",
            "Epoch 90/100\n",
            "240/240 [==============================] - 0s 1ms/step - loss: 27.1590\n",
            "Epoch 91/100\n",
            "240/240 [==============================] - 0s 994us/step - loss: 26.8695\n",
            "Epoch 92/100\n",
            "240/240 [==============================] - 0s 1ms/step - loss: 26.8419\n",
            "Epoch 93/100\n",
            "240/240 [==============================] - 0s 1ms/step - loss: 27.1248\n",
            "Epoch 94/100\n",
            "240/240 [==============================] - 0s 1ms/step - loss: 27.0744\n",
            "Epoch 95/100\n",
            "240/240 [==============================] - 0s 1ms/step - loss: 27.7012\n",
            "Epoch 96/100\n",
            "240/240 [==============================] - 0s 1ms/step - loss: 27.0450\n",
            "Epoch 97/100\n",
            "240/240 [==============================] - 0s 993us/step - loss: 27.3868\n",
            "Epoch 98/100\n",
            "240/240 [==============================] - 0s 1ms/step - loss: 26.8972\n",
            "Epoch 99/100\n",
            "240/240 [==============================] - 0s 1ms/step - loss: 27.0405\n",
            "Epoch 100/100\n",
            "240/240 [==============================] - 0s 1ms/step - loss: 26.8089\n"
          ],
          "name": "stdout"
        },
        {
          "output_type": "execute_result",
          "data": {
            "text/plain": [
              "<tensorflow.python.keras.callbacks.History at 0x7f689f72d518>"
            ]
          },
          "metadata": {
            "tags": []
          },
          "execution_count": 11
        }
      ]
    },
    {
      "cell_type": "markdown",
      "metadata": {
        "id": "UEEOzfd5AP99",
        "colab_type": "text"
      },
      "source": [
        "#predicting test results"
      ]
    },
    {
      "cell_type": "code",
      "metadata": {
        "id": "RFMjg81LAUCT",
        "colab_type": "code",
        "colab": {
          "base_uri": "https://localhost:8080/",
          "height": 136
        },
        "outputId": "16997c65-7c93-4120-c3cd-01bd542a5dbc"
      },
      "source": [
        "y_pred=ann.predict(x_test)\n",
        "np.set_printoptions(precision=2)\n",
        "print(np.concatenate((y_pred.reshape(len(y_pred),1),y_test.reshape(len(y_test),1)),1))"
      ],
      "execution_count": 15,
      "outputs": [
        {
          "output_type": "stream",
          "text": [
            "[[432.06 431.23]\n",
            " [463.38 460.01]\n",
            " [466.96 461.14]\n",
            " ...\n",
            " [474.1  473.26]\n",
            " [440.98 438.  ]\n",
            " [460.19 463.28]]\n"
          ],
          "name": "stdout"
        }
      ]
    }
  ]
}